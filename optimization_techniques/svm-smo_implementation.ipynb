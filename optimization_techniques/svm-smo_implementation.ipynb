{
  "nbformat": 4,
  "nbformat_minor": 0,
  "metadata": {
    "colab": {
      "provenance": []
    },
    "kernelspec": {
      "name": "python3",
      "display_name": "Python 3"
    },
    "language_info": {
      "name": "python"
    }
  },
  "cells": [
    {
      "cell_type": "markdown",
      "source": [
        "<font size=\"4\">**Institution:** *Athens University of Economics and Business*</font><br/>\n",
        "<font size=\"4\">**Department:** *School of Sciences and Technology*</font><br/>\n",
        "<font size=\"4\">**Post Graduate Program:** *MSc in Data Science*</font><br/>\n",
        "<font size=\"4\">**Course:** *Optimization Techniques (FT)*</font><br/>\n",
        "<font size=\"4\">**Assignment No:** *2*</font><br/>\n",
        "<font size=\"4\">**Title:** *SVMs - Sequential Minimal Optimization (SMO) Implementation*</font><br/><br/>\n",
        "<font size=\"4\">**Student:** *Vyzaniaris Georgios*</font><br/>\n",
        "<font size=\"4\">**Registration No:** *f3352203*</font><br/>\n",
        "<font size=\"4\">**e-mail:** gvizaniaris@aueb.gr</font><br/><br/>\n",
        "\n",
        "[PART 0](#part0)\n",
        "* [Libraries](#li)\n",
        "* [User's Defined Variables](#udv)\n",
        "* [Obtain Data](#od)\n",
        "\n",
        "\n",
        "[PART A](#parta) (SMO Formulation)\n",
        "\n",
        "[PART B](#partb) (SMO Implementation & Tuning)\n",
        "* [Base Implementation over the Training Set](#partb1)\n",
        "* [Hyper-parameter Tuning](#partb2)\n",
        "* [Tuned Classifier Implementation](#partb3)\n",
        "\n",
        "[PART C](#partc) (SMO Performance wrt Training Size)<br/><br/>\n",
        "\n",
        "#### <u>References<u/>\n",
        "* <a href='https://www.microsoft.com/en-us/research/wp-content/uploads/2016/02/tr-98-14.pdf'>Sequential Minimal Optimization (SMO): A Fast Algorithm for Training SVMs</a>\n",
        "* <a href='https://sgfin.github.io/files/notes/CS229_Lecture_Notes.pdf'>CS229 Lecture notes by Andrew Ng</a>\n",
        "\n",
        "\n"
      ],
      "metadata": {
        "id": "tVhHTexeTYJu"
      }
    },
    {
      "cell_type": "markdown",
      "source": [
        "<a name=\"part0\"></a>\n",
        "# <font color='green'>**PART 0**"
      ],
      "metadata": {
        "id": "zi1SaUbMUnA6"
      }
    },
    {
      "cell_type": "markdown",
      "source": [
        "<a name=\"li\"></a>\n",
        ">## **Libraries**"
      ],
      "metadata": {
        "id": "XFfCKM4jUq_m"
      }
    },
    {
      "cell_type": "code",
      "source": [
        "!pip install wget --q"
      ],
      "metadata": {
        "id": "emsk0IbA3ct-",
        "colab": {
          "base_uri": "https://localhost:8080/"
        },
        "outputId": "5ad98929-c4bf-428a-cf6a-1fca51a58344"
      },
      "execution_count": null,
      "outputs": [
        {
          "output_type": "stream",
          "name": "stdout",
          "text": [
            "  Preparing metadata (setup.py) ... \u001b[?25l\u001b[?25hdone\n",
            "  Building wheel for wget (setup.py) ... \u001b[?25l\u001b[?25hdone\n"
          ]
        }
      ]
    },
    {
      "cell_type": "code",
      "execution_count": null,
      "metadata": {
        "id": "tBBKyBniLfWr"
      },
      "outputs": [],
      "source": [
        "# general\n",
        "import os\n",
        "import glob\n",
        "import wget\n",
        "import time\n",
        "import math\n",
        "import random\n",
        "import numpy as np\n",
        "from tqdm import tqdm\n",
        "\n",
        "# loading the dataset\n",
        "from sklearn.datasets import load_svmlight_files\n",
        "\n",
        "# custom classifier construction, evaluation & hyper-parameter tuning\n",
        "from sklearn.preprocessing import StandardScaler\n",
        "from sklearn.model_selection import GridSearchCV\n",
        "from sklearn.utils.multiclass import unique_labels\n",
        "from sklearn.base import BaseEstimator, ClassifierMixin\n",
        "from sklearn.utils.estimator_checks import check_estimator\n",
        "from sklearn.model_selection import learning_curve, LearningCurveDisplay\n",
        "from sklearn.utils.validation import check_X_y, check_array, check_is_fitted\n",
        "from sklearn.metrics import confusion_matrix, ConfusionMatrixDisplay, accuracy_score, classification_report\n",
        "\n",
        "# graphics\n",
        "import matplotlib.pyplot as plt\n",
        "from scipy.interpolate import make_interp_spline, BSpline"
      ]
    },
    {
      "cell_type": "markdown",
      "source": [
        "<a name=\"udv\"></a>\n",
        ">## **User-Defined Variables**"
      ],
      "metadata": {
        "id": "MyttcZtCaK1T"
      }
    },
    {
      "cell_type": "code",
      "source": [
        "# the URLs from which we're going to download the gisette dataset\n",
        "urls = ['https://www.csie.ntu.edu.tw/~cjlin/libsvmtools/datasets/binary/gisette_scale.bz2',\n",
        "      'https://www.csie.ntu.edu.tw/~cjlin/libsvmtools/datasets/binary/gisette_scale.t.bz2']"
      ],
      "metadata": {
        "id": "VOAw1s1EaUEL"
      },
      "execution_count": null,
      "outputs": []
    },
    {
      "cell_type": "markdown",
      "source": [
        "<a name=\"od\"></a>\n",
        ">## **Obtain Data**"
      ],
      "metadata": {
        "id": "OpRCd9KcZ6xp"
      }
    },
    {
      "cell_type": "code",
      "source": [
        "def getData(urls):\n",
        "  '''\n",
        "  USAGE :  to retrieve the dataset from a given URL\n",
        "  TODO  :\n",
        "          1.  iterate through the given URL\n",
        "          2.  extract the train and test sets\n",
        "          3.  remove unnecessary files from the directory\n",
        "          4.  return train and test sets to the user\n",
        "  INPUT :\n",
        "          URLs    : the URL addresses of the dataset\n",
        "  OUTPUT:\n",
        "          X_train : the examples to train the classifier\n",
        "          y_train : the ground truth of the examples\n",
        "          X_test  : the examples for testing the classifier\n",
        "          y_test  : the labels of the test-set\n",
        "  '''\n",
        "\n",
        "  # iterating the URLs to download the dataset, specifying the destination folder to place it\n",
        "  for url in tqdm(urls):\n",
        "    wget.download(url, '/content')\n",
        "\n",
        "  # extracting our data from the files we downloaded\n",
        "  X_train, y_train, X_test, y_test = load_svmlight_files(('/content/' + urls[0].split('/')[-1],\n",
        "                                                          '/content/' + urls[1].split('/')[-1]))\n",
        "\n",
        "  X_train, y_train, X_test, y_test = X_train.A, np.array(y_train), X_test.A, np.array(y_test)\n",
        "\n",
        "  # scaling our data for better computational performance\n",
        "  # the dataset is already normalized as it's stated from the contributor, so we don't need to perform such action\n",
        "  scaler = StandardScaler()\n",
        "  model1 = scaler.fit(X_train)\n",
        "  model2 = scaler.fit(X_test)\n",
        "  X_train = model1.transform(X_train)\n",
        "  X_test = model2.transform(X_test)\n",
        "\n",
        "  # looking through the shapes of X_train/test sets (m-examples, n-features)\n",
        "  # & y_train/test labels (m-examples, 1)\n",
        "  print(f'The shape of X_train: {X_train.shape}')\n",
        "  print(f'The shape of y_train: {y_train.shape}')\n",
        "  print(f'The shape of X_test: {X_test.shape}')\n",
        "  print(f'The shape of y_test: {y_test.shape}')\n",
        "\n",
        "  # deleting unnecessary files\n",
        "  for f in glob.glob('/content/*.bz2'):\n",
        "    os.remove(f)\n",
        "\n",
        "  return X_train, y_train, X_test, y_test"
      ],
      "metadata": {
        "id": "WlUEQRATpjQA"
      },
      "execution_count": null,
      "outputs": []
    },
    {
      "cell_type": "code",
      "source": [
        "def FreqPlot(t1, t2):\n",
        "  '''\n",
        "  USAGE:  to create and present the freq distribution of the train & test outputs\n",
        "  TODO:\n",
        "        1.  compute the frequencies\n",
        "        2.  setup the workspace\n",
        "        3.  create the barplots\n",
        "        4.  present the plots to the user\n",
        "  INPUT:\n",
        "        t1 : the y_train\n",
        "        t2 : the y_test\n",
        "  OUTPUT:\n",
        "        a bar plot presenting the distribution in train and test sets\n",
        "  '''\n",
        "  #******************************************************\n",
        "  #******************** COUNTING ************************\n",
        "  #******************************************************\n",
        "\n",
        "  #------------------- train set ------------------------\n",
        "  unique0, count0 = np.unique(t1, return_counts=True)\n",
        "  h1 = np.asarray((unique0, count0))\n",
        "\n",
        "  #-------------------- test set ------------------------\n",
        "  unique1, count1 = np.unique(t2, return_counts=True)\n",
        "  h2 = np.asarray((unique1, count1))\n",
        "\n",
        "  #******************************************************\n",
        "  #******************** PLOTING *************************\n",
        "  #******************************************************\n",
        "  X_axis = np.arange(len(unique0))\n",
        "  plt.style.use('seaborn')\n",
        "  #------------------- train set ------------------------\n",
        "  h1 = plt.bar(X_axis - 0.2, count0, 0.4, label = 'Train')\n",
        "  plt.bar_label(h1, padding=1)\n",
        "  #-------------------- test set ------------------------\n",
        "  h2 = plt.bar(X_axis + 0.2, count1, 0.4, label = 'Test')\n",
        "  plt.bar_label(h2, padding=1)\n",
        "\n",
        "  #----------------- refining plot ----------------------\n",
        "  plt.xticks(X_axis, unique0)\n",
        "  plt.xlabel(\"\\nClasses\")\n",
        "  plt.ylabel(\"Frequences\\n\")\n",
        "  plt.title(\"Frequences in each Class\\n\", fontsize=20)\n",
        "\n",
        "  plt.legend()\n",
        "  plt.show()"
      ],
      "metadata": {
        "id": "8N1elAsA_Gnx"
      },
      "execution_count": null,
      "outputs": []
    },
    {
      "cell_type": "code",
      "source": [
        "# retrieving the data from the source\n",
        "X_train, y_train, X_test, y_test = getData(urls)"
      ],
      "metadata": {
        "colab": {
          "base_uri": "https://localhost:8080/"
        },
        "id": "gFkkSfkEvGHk",
        "outputId": "e13dfec6-6759-494d-ee3b-4bcb4d73a42b"
      },
      "execution_count": null,
      "outputs": [
        {
          "output_type": "stream",
          "name": "stderr",
          "text": [
            "100%|██████████| 2/2 [00:06<00:00,  3.34s/it]\n"
          ]
        },
        {
          "output_type": "stream",
          "name": "stdout",
          "text": [
            "The shape of X_train: (6000, 5000)\n",
            "The shape of y_train: (6000,)\n",
            "The shape of X_test: (1000, 5000)\n",
            "The shape of y_test: (1000,)\n"
          ]
        }
      ]
    },
    {
      "cell_type": "code",
      "source": [
        "# displaying the frequency of our dataset wrt train & test sets\n",
        "FreqPlot(y_train, y_test)"
      ],
      "metadata": {
        "colab": {
          "base_uri": "https://localhost:8080/",
          "height": 635
        },
        "id": "49zFQFwa_UIV",
        "outputId": "80fe99cb-2c2e-401c-ddd2-2d7f34a88661"
      },
      "execution_count": null,
      "outputs": [
        {
          "output_type": "stream",
          "name": "stderr",
          "text": [
            "<ipython-input-5-e308b3c05b2d>:31: MatplotlibDeprecationWarning: The seaborn styles shipped by Matplotlib are deprecated since 3.6, as they no longer correspond to the styles shipped by seaborn. However, they will remain available as 'seaborn-v0_8-<style>'. Alternatively, directly use the seaborn API instead.\n",
            "  plt.style.use('seaborn')\n"
          ]
        },
        {
          "output_type": "display_data",
          "data": {
            "text/plain": [
              "<Figure size 800x550 with 1 Axes>"
            ],
            "image/png": "[encoded data removed]"
          },
          "metadata": {}
        }
      ]
    },
    {
      "cell_type": "markdown",
      "source": [
        "As we can observe, it's a `balanced dataset`"
      ],
      "metadata": {
        "id": "wYjVYBK9z6Yo"
      }
    },
    {
      "cell_type": "markdown",
      "source": [
        "<a name=\"parta\"></a>\n",
        "# <font color='orange'>**PART A**</font> (SMO Formulation)"
      ],
      "metadata": {
        "id": "UkrNZHCEUvyl"
      }
    },
    {
      "cell_type": "code",
      "source": [
        "class SMO(ClassifierMixin, BaseEstimator):\n",
        "  '''\n",
        "  USAGE: the use of this class is to define the SMO classifier along with\n",
        "          its methods needed for the cause\n",
        "  METHODS:\n",
        "          1.  __init__  : classifier's constructor\n",
        "          2.  fit       : fitting our X, y training data to our model\n",
        "          3.  predict   : make predictions for testing examples\n",
        "  '''\n",
        "\n",
        "  #*************************************************************************************\n",
        "  #---------------------------------- HELPER FUNCTIONS ---------------------------------\n",
        "  #*************************************************************************************\n",
        "  '''\n",
        "  USAGE : to assist methods fit(...) & predict(...) to fulfill their purpose\n",
        "  '''\n",
        "  def linear_kernel(self, x1,x2):\n",
        "    return np.inner(x1, x2)\n",
        "\n",
        "  # the objective func as it presented in the technical doc (eq.11)\n",
        "  def objective_function(self, alphas, y, kernel, X):\n",
        "    return np.sum(alphas) - 0.5 * np.sum((y[:, None] * y[None, :]) * kernel(X, X) * (alphas[:, None] * alphas[None, :]))\n",
        "\n",
        "  # the decision func as it presented in the technical doc (eq.10)\n",
        "  def decision_function(self, alphas, y, kernel, X, x, b):\n",
        "    result = (alphas * y) @ kernel(X, x) - b\n",
        "    return result\n",
        "\n",
        "  #*************************************************************************************\n",
        "  #------------------------------------ CONSTRUCTOR ------------------------------------\n",
        "  #*************************************************************************************\n",
        "  '''\n",
        "  # the constructor takes notes relating to specific parameters once the classifier is\n",
        "  # implemented using **kwargs(keywords)\n",
        "  '''\n",
        "  def __init__(self, C=1.0, tol=0.01, eps=0.01, max_iter=30):\n",
        "    '''\n",
        "    USAGE : to instantiate the classifier\n",
        "    TODO  :\n",
        "    INPUT :\n",
        "      **kwargs  :  hyper-parameters used to instatiate the classifier (using pre-defined variables):\n",
        "                    max_iter  : max number of iterations our classifier may conduct\n",
        "                    tol:  error tolerance\n",
        "                    eps : alphas' accuaracy for computing the lagrange multipliers\n",
        "                    C : regularization parameter of the SOM's objective function. The constant C\n",
        "                        controls weighting between our goal of making the margin large and ensuring\n",
        "                        that most of the examples have a functional margin of at least 1.0.\n",
        "                        The constant C is an argument to our optimization code that we can tune\n",
        "                        and get different results\n",
        "    OUTPUT:\n",
        "      an instance of a binary classifier (SOM)\n",
        "    '''\n",
        "    self.C = C\n",
        "    self.tol = tol\n",
        "    self.eps = eps\n",
        "    self.max_iter = max_iter\n",
        "\n",
        "  #*************************************************************************************\n",
        "  #----------------------------------------- FIT ---------------------------------------\n",
        "  #*************************************************************************************\n",
        "  def fit(self, X, y):\n",
        "    '''\n",
        "    USAGE: A reference implementation of a fitting function for the classifier\n",
        "    TODO:  implementing the given J.C.Platt algorithm as it presented in the technical report\n",
        "    INPUT:\n",
        "      X : array-like, shape (m_samples, n_features). The training input samples.\n",
        "      y : array-like, shape (m_samples,). The target values. An array of int\n",
        "    OUTPUT:\n",
        "      the classifier as an object\n",
        "    '''\n",
        "    # >>>>> classifier's cashe memory <<<<<\n",
        "    # checking X, y for appropriate shape\n",
        "    X, y = check_X_y(X, y)\n",
        "    self.is_fitted_ = True\n",
        "    # Store the classes seen during fit\n",
        "    self.classes_ = unique_labels(y)\n",
        "    # setting parameters\n",
        "    self.b = 0                                              # bias factor (intercept)\n",
        "    self.X_ = X                                             # the examples\n",
        "    self.y_ = y                                             # the ground truth\n",
        "    self.m_, self.n_ = self.X_.shape[0], self.X_.shape[1]   # example's dim\n",
        "    self.alphas = np.zeros(self.m_)                         # lagrange multipliers\n",
        "    self.kernel = self.linear_kernel                        # kernel used (linear)\n",
        "    self.errors_ = self.decision_function(self.alphas, self.y_, self.kernel,  self.X_ , self.X_ , self.b) - self.y_ # initializing the errors\n",
        "\n",
        "    np.random.seed(0)\n",
        "\n",
        "    #>>>>>>>>>>>>>>>>>>>>>>>>>>>>>>> PLATT'S ALGORITHM <<<<<<<<<<<<<<<<<<<<<<<<<<<<<<<<<<<\n",
        "\n",
        "    #************************************ takeStep ***************************************\n",
        "    def takeStep(i1, i2):\n",
        "      # making sure we choose different alphas...ff the alphas are the same -> skip step\n",
        "      # positive progress cannot be made if the first and second training examples share identical input vectors x\n",
        "      if i1 == i2:\n",
        "        return 0\n",
        "\n",
        "      # Extraction of the variables from the cache\n",
        "      alph1 = self.alphas[i1]\n",
        "      alph2 = self.alphas[i2]\n",
        "      y1 = self.y_[i1]\n",
        "      y2 = self.y_[i2]\n",
        "      E1 = self.errors_[i1]\n",
        "      E2 = self.errors_[i2]\n",
        "\n",
        "      s = y1 * y2\n",
        "\n",
        "      # >>>>> computing the bounds L & H (eq.13-14) <<<<<\n",
        "      # depending on the value of the labels y1 & y2 we calculate the upper and lower bounds L & H\n",
        "      if y1 == y2:\n",
        "        L = max(0 , alph1 + alph2 - self.C)\n",
        "        H = min(self.C, alph1 + alph2)\n",
        "      else:\n",
        "        L = max(0, alph2 - alph1)\n",
        "        H = min(self.C, self.C + alph2 - alph1)\n",
        "\n",
        "      # if lower and the upper bounds L & H are the same -> skip step\n",
        "      if L == H:\n",
        "        return 0\n",
        "\n",
        "      # >>>>> computing eta (eq.15) <<<<<\n",
        "      #Compute the kernels for the two selected examples (support computations for eta variable)\n",
        "      k11 = self.kernel(self.X_[i1], self.X_[i1])\n",
        "      k12 = self.kernel(self.X_[i1], self.X_[i2])\n",
        "      k22 = self.kernel(self.X_[i2], self.X_[i2])\n",
        "\n",
        "      # compute eta\n",
        "      eta = k11 + k22 - 2 * k12\n",
        "\n",
        "      # >>>>> compute alphas (eq.16-17) <<<<<\n",
        "      # if eta > 0 -> compute a2 as function of the old a2\n",
        "      if eta > 0:\n",
        "        a2 = alph2 + (y2 * (E1 - E2)) / eta\n",
        "\n",
        "        # clipping a2 wrt the bounds L & H\n",
        "        if a2 <= L:\n",
        "          a2 = L\n",
        "        elif a2 >= H:\n",
        "          a2 = H\n",
        "        else:\n",
        "          a2 = a2\n",
        "      else:\n",
        "        # getting copies of alphas we don't want to chahge the original alphas values,\n",
        "        # we want to compute only the different objective functions for a2.\n",
        "        alphas_adj = self.alphas.copy()\n",
        "\n",
        "        alphas_adj[i2] = L\n",
        "        Lobj = self.objective_function(alphas_adj, self.y_, self.kernel, self.X_) # Objective function at a2=L\n",
        "\n",
        "        alphas_adj[i2] = H\n",
        "        Hobj = self.objective_function(alphas_adj, self.y_, self.kernel, self.X_) # Objective function at a2=H\n",
        "\n",
        "        # clipping a2 as mentioned in the technical report\n",
        "        if Lobj < (Hobj - self.eps):\n",
        "          a2 = L\n",
        "        elif Lobj > (Hobj + self.eps):\n",
        "          a2 = H\n",
        "        else:\n",
        "          a2 = alph2\n",
        "\n",
        "      # if a2 value is very small - enter a value of 0\n",
        "      if a2 < 1e-8:\n",
        "        a2 = 0.0\n",
        "      elif a2 > (self.C - 1e-8):\n",
        "        a2 = self.C\n",
        "\n",
        "      #Skip this step if the change in a2 is less than *eps(a2_new + a2_old + eps)\n",
        "      if np.abs(a2 - alph2) < (self.eps * (a2 + alph2 + self.eps)):\n",
        "        return 0\n",
        "\n",
        "      # compute a1 as a function of the old a1, a2 and s (eq.18)\n",
        "      a1 = alph1 + s * (alph2 - a2)\n",
        "\n",
        "      # >>>>> computing the possible bias (threshold) values (eq.20-21) <<<<<\n",
        "      b1 = E1 + y1 * (a1 - alph1) * k11 + y2 * (a2 - alph2) * k12 + self.b      # eq.20\n",
        "      b2 = E2 + y1 * (a1 - alph1) * k12 + y2 * (a2 - alph2) * k22 + self.b      # eq.21\n",
        "\n",
        "      # update the bias (threshold) value according to the alpha (a1,a2) values found\n",
        "      # if alphas are not at bounds\n",
        "      if 0 < a1 and a1 < self.C:\n",
        "        b = b1\n",
        "      elif 0 < a2 and a2 < self.C:\n",
        "        b = b2\n",
        "      else: # if both alphas are at bound\n",
        "        b = (b1 + b2) * 0.5\n",
        "\n",
        "      # >>>>> cashe updates <<<<<\n",
        "\n",
        "      # update alphas found\n",
        "      self.alphas[i1] = a1\n",
        "      self.alphas[i2] = a2\n",
        "\n",
        "      # update error cache -> 0 if a1 ,a2 are in bounds\n",
        "      for index, alph in zip([i1, i2], [a1, a2]):\n",
        "        if (0.0 < alph) and (alph < self.C):\n",
        "          self.errors_[index] = 0.0\n",
        "\n",
        "      # update error cache for the rest alphas (lagrange multipliers)\n",
        "      Not_a1_a2 = [n for n in range(self.m_) if (n != i1 and n != i2)]\n",
        "      self.errors_[Not_a1_a2] = self.errors_[Not_a1_a2] + y1 * (a1 - alph1) * self.kernel(self.X_[i1], self.X_[Not_a1_a2]) + y2 * (a2 - alph2) * self.kernel(self.X_[i2], self.X_[Not_a1_a2]) + self.b - b\n",
        "\n",
        "      # update bias (threshold) found\n",
        "      self.b = b\n",
        "\n",
        "      return 1\n",
        "\n",
        "    #********************************** examineExample *************************************\n",
        "    def examineExample(i2):\n",
        "      y2 = self.y_[i2]\n",
        "      alph2 = self.alphas[i2]\n",
        "      E2 = self.errors_[i2]\n",
        "      r2 = E2 * y2\n",
        "\n",
        "      # proceed if error is within the specified tolerance (tol)\n",
        "      if ((r2 < -self.tol and alph2 < self.C) or (r2 > self.tol and alph2 > 0)):\n",
        "\n",
        "        # if (number of non-zero & non-C alpha > 1)\n",
        "        if len(self.alphas[(self.alphas != 0) & (self.alphas != self.C)]) > 1:\n",
        "\n",
        "          # 2nd choice heuristic usage. choose an error to approximately maximize the step size\n",
        "          if self.errors_[i2] > 0:\n",
        "            i1 = np.argmin(self.errors_)\n",
        "          elif self.errors_[i2] <= 0:\n",
        "            i1 = np.argmax(self.errors_)\n",
        "\n",
        "          step = takeStep(i1, i2)\n",
        "\n",
        "          if step:\n",
        "            return 1\n",
        "\n",
        "        # loop over all non-zero and non-C alpha, starting at a random point\n",
        "        for i1 in np.roll(np.where((self.alphas != 0) & (self.alphas != self.C))[0], np.random.choice(np.arange(self.m_))):\n",
        "          step = takeStep(i1, i2)\n",
        "          if step:\n",
        "            return 1\n",
        "\n",
        "        # loop over all possible i1, starting at a random point\n",
        "        for i1 in np.roll(np.arange(self.m_), np.random.choice(np.arange(self.m_))):\n",
        "          step = takeStep(i1, i2)\n",
        "          if step:\n",
        "            return 1\n",
        "\n",
        "      return 0\n",
        "\n",
        "    #*********************************** driver func ***************************************\n",
        "    numChanged = 0\n",
        "    examineAll = 1\n",
        "    iter = 0\n",
        "\n",
        "    while ((numChanged > 0 or examineAll) and (iter < self.max_iter)):\n",
        "      start = time.time()\n",
        "      iter += 1\n",
        "      numChanged = 0\n",
        "\n",
        "      if examineAll:\n",
        "        for i in range(self.m_):\n",
        "          res = examineExample(i)\n",
        "          numChanged += res\n",
        "      else:\n",
        "        for i in np.where((self.alphas != 0) & (self.alphas != self.C))[0]:\n",
        "          res = examineExample(i)\n",
        "          numChanged += res\n",
        "\n",
        "      if examineAll == 1:\n",
        "        examineAll = 0\n",
        "      elif numChanged == 0:\n",
        "        examineAll = 1\n",
        "\n",
        "      end = time.time()\n",
        "      total = end - start\n",
        "\n",
        "    return self\n",
        "\n",
        "  #*************************************************************************************\n",
        "  #--------------------------------------- PREDICT -------------------------------------\n",
        "  #*************************************************************************************\n",
        "  def predict(self, X):\n",
        "    '''\n",
        "    USAGE : to predict in which class an example belongs to\n",
        "    TODO  : 1.  check if fit method has been invoked\n",
        "            2.  check if the example has the proper dim\n",
        "            3.  iterate through the examples and predict\n",
        "\n",
        "    INPUT :\n",
        "            X : array-like, shape (n_samples, n_features). The input test sample\n",
        "    OUTPUT:\n",
        "            y : ndarray, shape (n_samples,). The label for each sample is the label\n",
        "                of the closest sample seen during fit.\n",
        "    '''\n",
        "    # Check if fit had been invoked\n",
        "    check_is_fitted(self, ['X_', 'y_'])\n",
        "\n",
        "    # Input validation\n",
        "    X = check_array(X)\n",
        "\n",
        "    self.pred = np.zeros(X.shape[0])\n",
        "\n",
        "    # classifying the test examples\n",
        "    for i,test in enumerate(X):\n",
        "      # getting predictions for each example using the decision function\n",
        "      self.pred[i] = self.decision_function(self.alphas, self.y_, self.kernel, self.X_, test, self.b)\n",
        "\n",
        "      # prediction 1 stands for 4 digit while -1 stands for 9 digit\n",
        "      if self.pred[i] > 0:\n",
        "        self.pred[i] = 1\n",
        "      else:\n",
        "        self.pred[i] = -1\n",
        "\n",
        "    return self.pred\n",
        "\n",
        "  # declaring functionality of the classifier\n",
        "  def _more_tags(self):\n",
        "    return {'binary_only': True,\n",
        "            'requires_y': True,\n",
        "            'requires_fit': True}"
      ],
      "metadata": {
        "id": "6FUbkPuXoI3d"
      },
      "execution_count": null,
      "outputs": []
    },
    {
      "cell_type": "markdown",
      "source": [
        "<a name=\"partb\"></a>\n",
        "# <font color=#5da8f1>**PART B**</font> (SMO Implementation & Tuning)"
      ],
      "metadata": {
        "id": "mlnLdDdxUz2N"
      }
    },
    {
      "cell_type": "markdown",
      "source": [
        "<a name=\"partb1\"></a>\n",
        ">## Base Implementation over the Training Set"
      ],
      "metadata": {
        "id": "I5HripvwhwgE"
      }
    },
    {
      "cell_type": "code",
      "source": [
        "# building the model\n",
        "model = SMO()"
      ],
      "metadata": {
        "id": "d7QlTyGBojyy"
      },
      "execution_count": null,
      "outputs": []
    },
    {
      "cell_type": "code",
      "source": [
        "# checking classifier's parameters\n",
        "model.get_params(deep=True)"
      ],
      "metadata": {
        "colab": {
          "base_uri": "https://localhost:8080/"
        },
        "id": "Avhg9RIOWo0p",
        "outputId": "5e3f1d96-8c23-42c1-cc79-7b765002f492"
      },
      "execution_count": null,
      "outputs": [
        {
          "output_type": "execute_result",
          "data": {
            "text/plain": [
              "{'C': 1.0, 'eps': 0.01, 'max_iter': 30, 'tol': 0.01}"
            ]
          },
          "metadata": {},
          "execution_count": 13
        }
      ]
    },
    {
      "cell_type": "code",
      "source": [
        "# fitting the data to the base classifier\n",
        "model.fit(X_train[:1000, :], y_train[:1000])"
      ],
      "metadata": {
        "colab": {
          "base_uri": "https://localhost:8080/",
          "height": 75
        },
        "id": "XaK3XMunYew5",
        "outputId": "d1753f30-5f95-4478-f5e3-78bcbf586dab"
      },
      "execution_count": null,
      "outputs": [
        {
          "output_type": "execute_result",
          "data": {
            "text/plain": [
              "SMO()"
            ],
            "text/html": [
              "<style>#sk-container-id-1 {color: black;background-color: white;}#sk-container-id-1 pre{padding: 0;}#sk-container-id-1 div.sk-toggleable {background-color: white;}#sk-container-id-1 label.sk-toggleable__label {cursor: pointer;display: block;width: 100%;margin-bottom: 0;padding: 0.3em;box-sizing: border-box;text-align: center;}#sk-container-id-1 label.sk-toggleable__label-arrow:before {content: \"▸\";float: left;margin-right: 0.25em;color: #696969;}#sk-container-id-1 label.sk-toggleable__label-arrow:hover:before {color: black;}#sk-container-id-1 div.sk-estimator:hover label.sk-toggleable__label-arrow:before {color: black;}#sk-container-id-1 div.sk-toggleable__content {max-height: 0;max-width: 0;overflow: hidden;text-align: left;background-color: #f0f8ff;}#sk-container-id-1 div.sk-toggleable__content pre {margin: 0.2em;color: black;border-radius: 0.25em;background-color: #f0f8ff;}#sk-container-id-1 input.sk-toggleable__control:checked~div.sk-toggleable__content {max-height: 200px;max-width: 100%;overflow: auto;}#sk-container-id-1 input.sk-toggleable__control:checked~label.sk-toggleable__label-arrow:before {content: \"▾\";}#sk-container-id-1 div.sk-estimator input.sk-toggleable__control:checked~label.sk-toggleable__label {background-color: #d4ebff;}#sk-container-id-1 div.sk-label input.sk-toggleable__control:checked~label.sk-toggleable__label {background-color: #d4ebff;}#sk-container-id-1 input.sk-hidden--visually {border: 0;clip: rect(1px 1px 1px 1px);clip: rect(1px, 1px, 1px, 1px);height: 1px;margin: -1px;overflow: hidden;padding: 0;position: absolute;width: 1px;}#sk-container-id-1 div.sk-estimator {font-family: monospace;background-color: #f0f8ff;border: 1px dotted black;border-radius: 0.25em;box-sizing: border-box;margin-bottom: 0.5em;}#sk-container-id-1 div.sk-estimator:hover {background-color: #d4ebff;}#sk-container-id-1 div.sk-parallel-item::after {content: \"\";width: 100%;border-bottom: 1px solid gray;flex-grow: 1;}#sk-container-id-1 div.sk-label:hover label.sk-toggleable__label {background-color: #d4ebff;}#sk-container-id-1 div.sk-serial::before {content: \"\";position: absolute;border-left: 1px solid gray;box-sizing: border-box;top: 0;bottom: 0;left: 50%;z-index: 0;}#sk-container-id-1 div.sk-serial {display: flex;flex-direction: column;align-items: center;background-color: white;padding-right: 0.2em;padding-left: 0.2em;position: relative;}#sk-container-id-1 div.sk-item {position: relative;z-index: 1;}#sk-container-id-1 div.sk-parallel {display: flex;align-items: stretch;justify-content: center;background-color: white;position: relative;}#sk-container-id-1 div.sk-item::before, #sk-container-id-1 div.sk-parallel-item::before {content: \"\";position: absolute;border-left: 1px solid gray;box-sizing: border-box;top: 0;bottom: 0;left: 50%;z-index: -1;}#sk-container-id-1 div.sk-parallel-item {display: flex;flex-direction: column;z-index: 1;position: relative;background-color: white;}#sk-container-id-1 div.sk-parallel-item:first-child::after {align-self: flex-end;width: 50%;}#sk-container-id-1 div.sk-parallel-item:last-child::after {align-self: flex-start;width: 50%;}#sk-container-id-1 div.sk-parallel-item:only-child::after {width: 0;}#sk-container-id-1 div.sk-dashed-wrapped {border: 1px dashed gray;margin: 0 0.4em 0.5em 0.4em;box-sizing: border-box;padding-bottom: 0.4em;background-color: white;}#sk-container-id-1 div.sk-label label {font-family: monospace;font-weight: bold;display: inline-block;line-height: 1.2em;}#sk-container-id-1 div.sk-label-container {text-align: center;}#sk-container-id-1 div.sk-container {/* jupyter's `normalize.less` sets `[hidden] { display: none; }` but bootstrap.min.css set `[hidden] { display: none !important; }` so we also need the `!important` here to be able to override the default hidden behavior on the sphinx rendered scikit-learn.org. See: https://github.com/scikit-learn/scikit-learn/issues/21755 */display: inline-block !important;position: relative;}#sk-container-id-1 div.sk-text-repr-fallback {display: none;}</style><div id=\"sk-container-id-1\" class=\"sk-top-container\"><div class=\"sk-text-repr-fallback\"><pre>SMO()</pre><b>In a Jupyter environment, please rerun this cell to show the HTML representation or trust the notebook. <br />On GitHub, the HTML representation is unable to render, please try loading this page with nbviewer.org.</b></div><div class=\"sk-container\" hidden><div class=\"sk-item\"><div class=\"sk-estimator sk-toggleable\"><input class=\"sk-toggleable__control sk-hidden--visually\" id=\"sk-estimator-id-1\" type=\"checkbox\" checked><label for=\"sk-estimator-id-1\" class=\"sk-toggleable__label sk-toggleable__label-arrow\">SMO</label><div class=\"sk-toggleable__content\"><pre>SMO()</pre></div></div></div></div></div>"
            ]
          },
          "metadata": {},
          "execution_count": 14
        }
      ]
    },
    {
      "cell_type": "code",
      "source": [
        "# make predictions over the test set\n",
        "pred = model.predict(X_test)\n",
        "\n",
        "# display the base classifier's score\n",
        "acc = accuracy_score(y_test, pred, normalize=True)\n",
        "print(f'Accuracy: {acc}')\n",
        "\n",
        "# classifier's performance using the confusion matrix\n",
        "cm = confusion_matrix(y_test, pred, normalize='true')\n",
        "disp = ConfusionMatrixDisplay(cm, display_labels=['9', '4'])\n",
        "disp.plot()"
      ],
      "metadata": {
        "colab": {
          "base_uri": "https://localhost:8080/",
          "height": 540
        },
        "id": "tEeiJobufDaq",
        "outputId": "a7cdd06f-f655-4706-c1b0-d59f6ed56c8a"
      },
      "execution_count": null,
      "outputs": [
        {
          "output_type": "stream",
          "name": "stdout",
          "text": [
            "Accuracy: 0.961\n"
          ]
        },
        {
          "output_type": "execute_result",
          "data": {
            "text/plain": [
              "<sklearn.metrics._plot.confusion_matrix.ConfusionMatrixDisplay at 0x7f2fa0b8da20>"
            ]
          },
          "metadata": {},
          "execution_count": 17
        },
        {
          "output_type": "display_data",
          "data": {
            "text/plain": [
              "<Figure size 800x550 with 2 Axes>"
            ],
            "image/png": "[encoded data removed]"
          },
          "metadata": {}
        }
      ]
    },
    {
      "cell_type": "code",
      "source": [
        "# displaying the classification report for the base classifier\n",
        "cr = classification_report(y_test, pred, labels=model.classes_, target_names=['9', '4'])\n",
        "print(cr)"
      ],
      "metadata": {
        "colab": {
          "base_uri": "https://localhost:8080/"
        },
        "id": "brKEGhNuVEjR",
        "outputId": "b05c7907-fcb8-4f32-e3b5-5c1bd59e9b1d"
      },
      "execution_count": null,
      "outputs": [
        {
          "output_type": "stream",
          "name": "stdout",
          "text": [
            "              precision    recall  f1-score   support\n",
            "\n",
            "           9       0.96      0.96      0.96       500\n",
            "           4       0.96      0.96      0.96       500\n",
            "\n",
            "    accuracy                           0.96      1000\n",
            "   macro avg       0.96      0.96      0.96      1000\n",
            "weighted avg       0.96      0.96      0.96      1000\n",
            "\n"
          ]
        }
      ]
    },
    {
      "cell_type": "markdown",
      "source": [
        "As we can observe, `the baseline model has performed very well despite the small amount of examples (1000), providing an accuracy of 96%`. Can we do better? We're going to conduct a hyper-parameter tuning to seek for a better model parameter setup for our classifier. The next section invokes an exhaustive search over given hyper-parameters' domains."
      ],
      "metadata": {
        "id": "iKlrZ5JHaFoa"
      }
    },
    {
      "cell_type": "markdown",
      "source": [
        "<a name=\"partb2\"></a>\n",
        "> ## Hyper-parameter Tuning"
      ],
      "metadata": {
        "id": "bGBU4mvFLIhr"
      }
    },
    {
      "cell_type": "code",
      "source": [
        "# setting up the hyper-parameters' domains we want to examine for our quest\n",
        "param = [{'eps': [0.001, 0.005], 'tol': [0.001, 0.005]}]\n",
        "\n",
        "# deploying the environment for our quest\n",
        "clf = GridSearchCV(estimator=SMO(C=0.1), param_grid=param, cv=5, scoring='f1', n_jobs=-1, verbose=4)"
      ],
      "metadata": {
        "id": "O3KLyK1yYrjd"
      },
      "execution_count": null,
      "outputs": []
    },
    {
      "cell_type": "code",
      "source": [
        "clf.fit(X_train[:1000, :], y_train[:1000])"
      ],
      "metadata": {
        "colab": {
          "base_uri": "https://localhost:8080/",
          "height": 137
        },
        "id": "xvGFnJ89bkA8",
        "outputId": "8aea3a23-a0c5-45ac-821c-5f1631e38a84"
      },
      "execution_count": null,
      "outputs": [
        {
          "output_type": "stream",
          "name": "stdout",
          "text": [
            "Fitting 5 folds for each of 4 candidates, totalling 20 fits\n"
          ]
        },
        {
          "output_type": "execute_result",
          "data": {
            "text/plain": [
              "GridSearchCV(cv=5, estimator=SMO(C=0.1), n_jobs=-1,\n",
              "             param_grid=[{'eps': [0.001, 0.005], 'tol': [0.001, 0.005]}],\n",
              "             scoring='f1', verbose=4)"
            ],
            "text/html": [
              "<style>#sk-container-id-2 {color: black;background-color: white;}#sk-container-id-2 pre{padding: 0;}#sk-container-id-2 div.sk-toggleable {background-color: white;}#sk-container-id-2 label.sk-toggleable__label {cursor: pointer;display: block;width: 100%;margin-bottom: 0;padding: 0.3em;box-sizing: border-box;text-align: center;}#sk-container-id-2 label.sk-toggleable__label-arrow:before {content: \"▸\";float: left;margin-right: 0.25em;color: #696969;}#sk-container-id-2 label.sk-toggleable__label-arrow:hover:before {color: black;}#sk-container-id-2 div.sk-estimator:hover label.sk-toggleable__label-arrow:before {color: black;}#sk-container-id-2 div.sk-toggleable__content {max-height: 0;max-width: 0;overflow: hidden;text-align: left;background-color: #f0f8ff;}#sk-container-id-2 div.sk-toggleable__content pre {margin: 0.2em;color: black;border-radius: 0.25em;background-color: #f0f8ff;}#sk-container-id-2 input.sk-toggleable__control:checked~div.sk-toggleable__content {max-height: 200px;max-width: 100%;overflow: auto;}#sk-container-id-2 input.sk-toggleable__control:checked~label.sk-toggleable__label-arrow:before {content: \"▾\";}#sk-container-id-2 div.sk-estimator input.sk-toggleable__control:checked~label.sk-toggleable__label {background-color: #d4ebff;}#sk-container-id-2 div.sk-label input.sk-toggleable__control:checked~label.sk-toggleable__label {background-color: #d4ebff;}#sk-container-id-2 input.sk-hidden--visually {border: 0;clip: rect(1px 1px 1px 1px);clip: rect(1px, 1px, 1px, 1px);height: 1px;margin: -1px;overflow: hidden;padding: 0;position: absolute;width: 1px;}#sk-container-id-2 div.sk-estimator {font-family: monospace;background-color: #f0f8ff;border: 1px dotted black;border-radius: 0.25em;box-sizing: border-box;margin-bottom: 0.5em;}#sk-container-id-2 div.sk-estimator:hover {background-color: #d4ebff;}#sk-container-id-2 div.sk-parallel-item::after {content: \"\";width: 100%;border-bottom: 1px solid gray;flex-grow: 1;}#sk-container-id-2 div.sk-label:hover label.sk-toggleable__label {background-color: #d4ebff;}#sk-container-id-2 div.sk-serial::before {content: \"\";position: absolute;border-left: 1px solid gray;box-sizing: border-box;top: 0;bottom: 0;left: 50%;z-index: 0;}#sk-container-id-2 div.sk-serial {display: flex;flex-direction: column;align-items: center;background-color: white;padding-right: 0.2em;padding-left: 0.2em;position: relative;}#sk-container-id-2 div.sk-item {position: relative;z-index: 1;}#sk-container-id-2 div.sk-parallel {display: flex;align-items: stretch;justify-content: center;background-color: white;position: relative;}#sk-container-id-2 div.sk-item::before, #sk-container-id-2 div.sk-parallel-item::before {content: \"\";position: absolute;border-left: 1px solid gray;box-sizing: border-box;top: 0;bottom: 0;left: 50%;z-index: -1;}#sk-container-id-2 div.sk-parallel-item {display: flex;flex-direction: column;z-index: 1;position: relative;background-color: white;}#sk-container-id-2 div.sk-parallel-item:first-child::after {align-self: flex-end;width: 50%;}#sk-container-id-2 div.sk-parallel-item:last-child::after {align-self: flex-start;width: 50%;}#sk-container-id-2 div.sk-parallel-item:only-child::after {width: 0;}#sk-container-id-2 div.sk-dashed-wrapped {border: 1px dashed gray;margin: 0 0.4em 0.5em 0.4em;box-sizing: border-box;padding-bottom: 0.4em;background-color: white;}#sk-container-id-2 div.sk-label label {font-family: monospace;font-weight: bold;display: inline-block;line-height: 1.2em;}#sk-container-id-2 div.sk-label-container {text-align: center;}#sk-container-id-2 div.sk-container {/* jupyter's `normalize.less` sets `[hidden] { display: none; }` but bootstrap.min.css set `[hidden] { display: none !important; }` so we also need the `!important` here to be able to override the default hidden behavior on the sphinx rendered scikit-learn.org. See: https://github.com/scikit-learn/scikit-learn/issues/21755 */display: inline-block !important;position: relative;}#sk-container-id-2 div.sk-text-repr-fallback {display: none;}</style><div id=\"sk-container-id-2\" class=\"sk-top-container\"><div class=\"sk-text-repr-fallback\"><pre>GridSearchCV(cv=5, estimator=SMO(C=0.1), n_jobs=-1,\n",
              "             param_grid=[{&#x27;eps&#x27;: [0.001, 0.005], &#x27;tol&#x27;: [0.001, 0.005]}],\n",
              "             scoring=&#x27;f1&#x27;, verbose=4)</pre><b>In a Jupyter environment, please rerun this cell to show the HTML representation or trust the notebook. <br />On GitHub, the HTML representation is unable to render, please try loading this page with nbviewer.org.</b></div><div class=\"sk-container\" hidden><div class=\"sk-item sk-dashed-wrapped\"><div class=\"sk-label-container\"><div class=\"sk-label sk-toggleable\"><input class=\"sk-toggleable__control sk-hidden--visually\" id=\"sk-estimator-id-2\" type=\"checkbox\" ><label for=\"sk-estimator-id-2\" class=\"sk-toggleable__label sk-toggleable__label-arrow\">GridSearchCV</label><div class=\"sk-toggleable__content\"><pre>GridSearchCV(cv=5, estimator=SMO(C=0.1), n_jobs=-1,\n",
              "             param_grid=[{&#x27;eps&#x27;: [0.001, 0.005], &#x27;tol&#x27;: [0.001, 0.005]}],\n",
              "             scoring=&#x27;f1&#x27;, verbose=4)</pre></div></div></div><div class=\"sk-parallel\"><div class=\"sk-parallel-item\"><div class=\"sk-item\"><div class=\"sk-label-container\"><div class=\"sk-label sk-toggleable\"><input class=\"sk-toggleable__control sk-hidden--visually\" id=\"sk-estimator-id-3\" type=\"checkbox\" ><label for=\"sk-estimator-id-3\" class=\"sk-toggleable__label sk-toggleable__label-arrow\">estimator: SMO</label><div class=\"sk-toggleable__content\"><pre>SMO(C=0.1)</pre></div></div></div><div class=\"sk-serial\"><div class=\"sk-item\"><div class=\"sk-estimator sk-toggleable\"><input class=\"sk-toggleable__control sk-hidden--visually\" id=\"sk-estimator-id-4\" type=\"checkbox\" ><label for=\"sk-estimator-id-4\" class=\"sk-toggleable__label sk-toggleable__label-arrow\">SMO</label><div class=\"sk-toggleable__content\"><pre>SMO(C=0.1)</pre></div></div></div></div></div></div></div></div></div></div>"
            ]
          },
          "metadata": {},
          "execution_count": 22
        }
      ]
    },
    {
      "cell_type": "code",
      "source": [
        "print(f'Best hyper-parameter setting found: {clf.best_params_}\\n')\n",
        "print(f'Best accuracy performance conducted: {clf.best_score_:.4f}')"
      ],
      "metadata": {
        "colab": {
          "base_uri": "https://localhost:8080/"
        },
        "id": "nqFX1F-ZBdZn",
        "outputId": "e4add1fd-d77d-49eb-ab88-492e313991a4"
      },
      "execution_count": null,
      "outputs": [
        {
          "output_type": "stream",
          "name": "stdout",
          "text": [
            "Best hyper-parameter setting found: {'eps': 0.001, 'tol': 0.005}\n",
            "\n",
            "Best accuracy performance conducted: 0.9580\n"
          ]
        }
      ]
    },
    {
      "cell_type": "markdown",
      "source": [
        "As we can observe, after tuning under specific hyper-parameters domains; `we don't get better results than the baseline`, but we're going to `try the specified configuration using a larger training size`."
      ],
      "metadata": {
        "id": "i5jRqlehrcFc"
      }
    },
    {
      "cell_type": "markdown",
      "source": [
        "<a name=\"partb3\"></a>\n",
        ">## Tuned Classifier Implementation"
      ],
      "metadata": {
        "id": "uDNoTvjfQt2m"
      }
    },
    {
      "cell_type": "code",
      "source": [
        "# setting up the classifier using the parameters we've found\n",
        "tuned_clf = SMO(C=0.1)\n",
        "tuned_clf.set_params(**clf.best_params_)\n",
        "tuned_clf.get_params(deep=True)"
      ],
      "metadata": {
        "colab": {
          "base_uri": "https://localhost:8080/"
        },
        "id": "E9nngbFUQAp_",
        "outputId": "85b0e500-fb0f-4eb1-bd51-2d5855070dd4"
      },
      "execution_count": null,
      "outputs": [
        {
          "output_type": "execute_result",
          "data": {
            "text/plain": [
              "{'C': 0.1, 'eps': 0.001, 'max_iter': 30, 'tol': 0.005}"
            ]
          },
          "metadata": {},
          "execution_count": 53
        }
      ]
    },
    {
      "cell_type": "code",
      "source": [
        "# fitting the data\n",
        "tuned_clf.fit(X_train, y_train)"
      ],
      "metadata": {
        "colab": {
          "base_uri": "https://localhost:8080/",
          "height": 75
        },
        "id": "stXeMWxvRFqT",
        "outputId": "6bde7ad8-50f5-4539-daf1-6f4064621aac"
      },
      "execution_count": null,
      "outputs": [
        {
          "output_type": "execute_result",
          "data": {
            "text/plain": [
              "SMO(C=0.1, eps=0.001, tol=0.005)"
            ],
            "text/html": [
              "<style>#sk-container-id-3 {color: black;background-color: white;}#sk-container-id-3 pre{padding: 0;}#sk-container-id-3 div.sk-toggleable {background-color: white;}#sk-container-id-3 label.sk-toggleable__label {cursor: pointer;display: block;width: 100%;margin-bottom: 0;padding: 0.3em;box-sizing: border-box;text-align: center;}#sk-container-id-3 label.sk-toggleable__label-arrow:before {content: \"▸\";float: left;margin-right: 0.25em;color: #696969;}#sk-container-id-3 label.sk-toggleable__label-arrow:hover:before {color: black;}#sk-container-id-3 div.sk-estimator:hover label.sk-toggleable__label-arrow:before {color: black;}#sk-container-id-3 div.sk-toggleable__content {max-height: 0;max-width: 0;overflow: hidden;text-align: left;background-color: #f0f8ff;}#sk-container-id-3 div.sk-toggleable__content pre {margin: 0.2em;color: black;border-radius: 0.25em;background-color: #f0f8ff;}#sk-container-id-3 input.sk-toggleable__control:checked~div.sk-toggleable__content {max-height: 200px;max-width: 100%;overflow: auto;}#sk-container-id-3 input.sk-toggleable__control:checked~label.sk-toggleable__label-arrow:before {content: \"▾\";}#sk-container-id-3 div.sk-estimator input.sk-toggleable__control:checked~label.sk-toggleable__label {background-color: #d4ebff;}#sk-container-id-3 div.sk-label input.sk-toggleable__control:checked~label.sk-toggleable__label {background-color: #d4ebff;}#sk-container-id-3 input.sk-hidden--visually {border: 0;clip: rect(1px 1px 1px 1px);clip: rect(1px, 1px, 1px, 1px);height: 1px;margin: -1px;overflow: hidden;padding: 0;position: absolute;width: 1px;}#sk-container-id-3 div.sk-estimator {font-family: monospace;background-color: #f0f8ff;border: 1px dotted black;border-radius: 0.25em;box-sizing: border-box;margin-bottom: 0.5em;}#sk-container-id-3 div.sk-estimator:hover {background-color: #d4ebff;}#sk-container-id-3 div.sk-parallel-item::after {content: \"\";width: 100%;border-bottom: 1px solid gray;flex-grow: 1;}#sk-container-id-3 div.sk-label:hover label.sk-toggleable__label {background-color: #d4ebff;}#sk-container-id-3 div.sk-serial::before {content: \"\";position: absolute;border-left: 1px solid gray;box-sizing: border-box;top: 0;bottom: 0;left: 50%;z-index: 0;}#sk-container-id-3 div.sk-serial {display: flex;flex-direction: column;align-items: center;background-color: white;padding-right: 0.2em;padding-left: 0.2em;position: relative;}#sk-container-id-3 div.sk-item {position: relative;z-index: 1;}#sk-container-id-3 div.sk-parallel {display: flex;align-items: stretch;justify-content: center;background-color: white;position: relative;}#sk-container-id-3 div.sk-item::before, #sk-container-id-3 div.sk-parallel-item::before {content: \"\";position: absolute;border-left: 1px solid gray;box-sizing: border-box;top: 0;bottom: 0;left: 50%;z-index: -1;}#sk-container-id-3 div.sk-parallel-item {display: flex;flex-direction: column;z-index: 1;position: relative;background-color: white;}#sk-container-id-3 div.sk-parallel-item:first-child::after {align-self: flex-end;width: 50%;}#sk-container-id-3 div.sk-parallel-item:last-child::after {align-self: flex-start;width: 50%;}#sk-container-id-3 div.sk-parallel-item:only-child::after {width: 0;}#sk-container-id-3 div.sk-dashed-wrapped {border: 1px dashed gray;margin: 0 0.4em 0.5em 0.4em;box-sizing: border-box;padding-bottom: 0.4em;background-color: white;}#sk-container-id-3 div.sk-label label {font-family: monospace;font-weight: bold;display: inline-block;line-height: 1.2em;}#sk-container-id-3 div.sk-label-container {text-align: center;}#sk-container-id-3 div.sk-container {/* jupyter's `normalize.less` sets `[hidden] { display: none; }` but bootstrap.min.css set `[hidden] { display: none !important; }` so we also need the `!important` here to be able to override the default hidden behavior on the sphinx rendered scikit-learn.org. See: https://github.com/scikit-learn/scikit-learn/issues/21755 */display: inline-block !important;position: relative;}#sk-container-id-3 div.sk-text-repr-fallback {display: none;}</style><div id=\"sk-container-id-3\" class=\"sk-top-container\"><div class=\"sk-text-repr-fallback\"><pre>SMO(C=0.1, eps=0.001, tol=0.005)</pre><b>In a Jupyter environment, please rerun this cell to show the HTML representation or trust the notebook. <br />On GitHub, the HTML representation is unable to render, please try loading this page with nbviewer.org.</b></div><div class=\"sk-container\" hidden><div class=\"sk-item\"><div class=\"sk-estimator sk-toggleable\"><input class=\"sk-toggleable__control sk-hidden--visually\" id=\"sk-estimator-id-5\" type=\"checkbox\" checked><label for=\"sk-estimator-id-5\" class=\"sk-toggleable__label sk-toggleable__label-arrow\">SMO</label><div class=\"sk-toggleable__content\"><pre>SMO(C=0.1, eps=0.001, tol=0.005)</pre></div></div></div></div></div>"
            ]
          },
          "metadata": {},
          "execution_count": 54
        }
      ]
    },
    {
      "cell_type": "code",
      "source": [
        "# make predictions over the test set\n",
        "pred_tuned = tuned_clf.predict(X_test)\n",
        "\n",
        "# display the tuned classifier's score\n",
        "acc_tuned = accuracy_score(y_test, pred_tuned, normalize=True)\n",
        "print(f'Accuracy: {acc_tuned}')\n",
        "\n",
        "# classifier's performance using the confusion matrix\n",
        "cm_tuned = confusion_matrix(y_test, pred_tuned, normalize='true')\n",
        "disp_tuned = ConfusionMatrixDisplay(cm_tuned, display_labels=['9', '4'])\n",
        "disp_tuned.plot()"
      ],
      "metadata": {
        "colab": {
          "base_uri": "https://localhost:8080/",
          "height": 540
        },
        "id": "jd4zCRNTRdkI",
        "outputId": "c38f181d-c8fe-4209-a5a6-8da6a23fdf47"
      },
      "execution_count": null,
      "outputs": [
        {
          "output_type": "stream",
          "name": "stdout",
          "text": [
            "Accuracy: 0.973\n"
          ]
        },
        {
          "output_type": "execute_result",
          "data": {
            "text/plain": [
              "<sklearn.metrics._plot.confusion_matrix.ConfusionMatrixDisplay at 0x7f2f9ae75330>"
            ]
          },
          "metadata": {},
          "execution_count": 55
        },
        {
          "output_type": "display_data",
          "data": {
            "text/plain": [
              "<Figure size 800x550 with 2 Axes>"
            ],
            "image/png": "[encoded data removed]"
          },
          "metadata": {}
        }
      ]
    },
    {
      "cell_type": "code",
      "source": [
        "# presenting the classification report\n",
        "cr_tuned = classification_report(y_test, pred_tuned, labels=model.classes_, target_names=['9', '4'])\n",
        "print(cr_tuned)"
      ],
      "metadata": {
        "colab": {
          "base_uri": "https://localhost:8080/"
        },
        "id": "qloXRgt7TQ03",
        "outputId": "5539b498-9009-49e1-d1ad-98634a43da31"
      },
      "execution_count": null,
      "outputs": [
        {
          "output_type": "stream",
          "name": "stdout",
          "text": [
            "              precision    recall  f1-score   support\n",
            "\n",
            "           9       0.97      0.98      0.97       500\n",
            "           4       0.98      0.97      0.97       500\n",
            "\n",
            "    accuracy                           0.97      1000\n",
            "   macro avg       0.97      0.97      0.97      1000\n",
            "weighted avg       0.97      0.97      0.97      1000\n",
            "\n"
          ]
        }
      ]
    },
    {
      "cell_type": "markdown",
      "source": [
        "As we observe, `the classifier performs better using the tuned configuration` giving us a `score over 97%`."
      ],
      "metadata": {
        "id": "DVhjqrkosYmX"
      }
    },
    {
      "cell_type": "markdown",
      "source": [
        "<a name=\"partc\"></a>\n",
        "# <font color='red'>**PART C**</font> (SMO Performance wrt Training Size)"
      ],
      "metadata": {
        "id": "w1oAhE6-cbic"
      }
    },
    {
      "cell_type": "markdown",
      "source": [
        "In this section, we're going to present how our tuned classifier performs over time wrt train sizes. To do that, we're going to use the accuracy metric and display the classifier's learning curve."
      ],
      "metadata": {
        "id": "H1sIhHMINx-H"
      }
    },
    {
      "cell_type": "code",
      "source": [
        "def EvalClf(X_tr, X_te, y_tr, y_te, param):\n",
        "  '''\n",
        "  USAGE:  to present the learning curves of the model wrt accuracy\n",
        "  TODO:\n",
        "        1.  create proportional example sizes to feed the model\n",
        "        2.  iterate through the example sizes:\n",
        "            * create the classifier using the tuned hyper-parameters\n",
        "            * fit our data\n",
        "            * make predictions wrt the train & test sets\n",
        "            * evaluate the classifier's accuracy using the train set\n",
        "            * evaluate the classifier's accuracy using the test set\n",
        "            * store each result\n",
        "        3.  return findings to the user\n",
        "  INPUT:\n",
        "        A_tr : the train set examples\n",
        "        A_te : the test set examples\n",
        "        y_tr : the train set ground truth\n",
        "        y_te : the test set ground truth\n",
        "  OUTPUT:\n",
        "        the train & test accuracies wrt train sizes\n",
        "  '''\n",
        "  # stating the train sizes to make our estimation.\n",
        "  # here we divide the train set into 6 training sizes including the total set size\n",
        "  train_sizes = np.linspace(1000, len(y_tr), 6, endpoint=True, dtype=np.int32)\n",
        "  print(f'Train sizes to challenge accuracy:\\n{train_sizes}\\n')\n",
        "\n",
        "  acc_train = [] # accuracy storage for train set\n",
        "  acc_test = [] # accuracy storage for test set\n",
        "\n",
        "  # make accuracy estimations wrt size\n",
        "  for i in train_sizes:\n",
        "    st = time.time()\n",
        "    print(f'Train size: {i}')\n",
        "    model_x = SMO(C=0.1)\n",
        "    model_x.set_params(**param)\n",
        "    model_x.fit(X_tr[:i, :], y_tr[:i]) # fitting the model\n",
        "    ytr_pred = model_x.predict(X_tr[:i, :])  # make predictions based on train set\n",
        "\n",
        "    acc_tr = accuracy_score(y_tr[:i], ytr_pred) # estimating the accuracy\n",
        "    acc_train.append(acc_tr) # store result\n",
        "    print(f'\\tTrain accuracy: {acc_tr:.4f}')\n",
        "\n",
        "    #--------------------------- test set --------------------------------\n",
        "    yte_pred = model_x.predict(X_te) # make predictions based on test set\n",
        "\n",
        "    acc_te = accuracy_score(y_te, yte_pred) # estimating the accuracy\n",
        "    acc_test.append(acc_te) # store result\n",
        "    print(f'\\tTest accuracy: {acc_te:.4f}')\n",
        "    duration = time.time() - st\n",
        "    print(f'\\tProcess Duration: {duration:.4f} secs')\n",
        "\n",
        "  return acc_train, acc_test, train_sizes"
      ],
      "metadata": {
        "id": "fm8ZmtJ4CuQE"
      },
      "execution_count": null,
      "outputs": []
    },
    {
      "cell_type": "code",
      "source": [
        "# THIS FUNCTION IS NO DIFFERENT THAN THE PREVIOUS ONE; IT IS USED TO GATHER MORE DATA TO DISPLAY\n",
        "# THE DIFFERENCE IS FOCUSED ON THE TRAINING SIZES WE USE\n",
        "\n",
        "def EvalClf2(X_tr, X_te, y_tr, y_te, param):\n",
        "  train_sizes = [50, 250, 500, 750] # focusing on spcific training sizes\n",
        "  print(f'Train sizes to challenge accuracy:\\n{train_sizes}\\n')\n",
        "\n",
        "  acc_train = [] # accuracy storage for train set\n",
        "  acc_test = [] # accuracy storage for test set\n",
        "\n",
        "  # make accuracy estimations wrt size\n",
        "  for i in train_sizes:\n",
        "    st = time.time()\n",
        "    print(f'Train size: {i}')\n",
        "    model_x = SMO(C=0.1)\n",
        "    model_x.set_params(**param)\n",
        "    model_x.fit(X_tr[:i, :], y_tr[:i]) # fitting the model\n",
        "    ytr_pred = model_x.predict(X_tr[:i, :])  # make predictions based on train set\n",
        "\n",
        "    acc_tr = accuracy_score(y_tr[:i], ytr_pred) # estimating the accuracy\n",
        "    acc_train.append(acc_tr) # store result\n",
        "    print(f'\\tTrain accuracy: {acc_tr:.4f}')\n",
        "\n",
        "    #--------------------------- test set --------------------------------\n",
        "    yte_pred = model_x.predict(X_te) # make predictions based on test set\n",
        "\n",
        "    acc_te = accuracy_score(y_te, yte_pred) # estimating the accuracy\n",
        "    acc_test.append(acc_te) # store result\n",
        "    print(f'\\tTest accuracy: {acc_te:.4f}')\n",
        "    duration = time.time() - st\n",
        "    print(f'\\tProcess Duration: {duration:.4f} secs')\n",
        "\n",
        "  return acc_train, acc_test, train_sizes"
      ],
      "metadata": {
        "id": "YP9YuNf1GesK"
      },
      "execution_count": null,
      "outputs": []
    },
    {
      "cell_type": "code",
      "source": [
        "def PlotCurves(acc_train, acc_test, trainSizes):\n",
        "  '''\n",
        "    USAGE:  to present the learning curves of the model wrt accuracy\n",
        "    TODO:\n",
        "          1.  create the workspace\n",
        "          2.  create the x-axis\n",
        "          3.  implement curvy lines\n",
        "          3.  plot accuracy per size\n",
        "    INPUT:\n",
        "          acc_train  : train set accuracy wrt train-size\n",
        "          acc_test   : test set accuracy wrt train-size\n",
        "          trainSizes : the train sizes\n",
        "    OUTPUT:\n",
        "          the learning curves\n",
        "  '''\n",
        "  # plotting space configuration\n",
        "  fig, ax = plt.subplots(1, 1, figsize=(15, 4))\n",
        "\n",
        "  # curvy lines code\n",
        "  ts = np.linspace(trainSizes.min(), trainSizes.max(), 100)\n",
        "\n",
        "  spl_tr = make_interp_spline(trainSizes, acc_train, k=2)\n",
        "  y_smooth_tr = spl_tr(ts)\n",
        "\n",
        "  spl_te = make_interp_spline(trainSizes, acc_test, k=2)\n",
        "  y_smooth_te = spl_te(ts)\n",
        "\n",
        "  # lines plotting\n",
        "  ax.plot(ts, y_smooth_tr, 'r', label='train')\n",
        "  ax.plot(ts, y_smooth_te, 'b', label='test')\n",
        "\n",
        "  # formating the plot\n",
        "  ax.set_xlabel('\\nTrain Sizes', fontsize = 15)\n",
        "  ax.set_ylabel('accuracy\\n', fontsize = 15)\n",
        "  ax.set_title('Accuracy per Train Size\\n', fontsize = 20)\n",
        "  ax.legend(loc='lower right')\n",
        "  ax.set_xticks(trainSizes)"
      ],
      "metadata": {
        "id": "kSNIcZ2LvUcK"
      },
      "execution_count": null,
      "outputs": []
    },
    {
      "cell_type": "code",
      "source": [
        "# getting performance over a specified training size\n",
        "acc_tr0, acc_te0, tr_sz0 = EvalClf2(X_train, X_test, y_train, y_test, clf.best_params_)"
      ],
      "metadata": {
        "colab": {
          "base_uri": "https://localhost:8080/"
        },
        "id": "VR5OVx85GvLd",
        "outputId": "357edad9-774b-47e4-b73c-0b50e5286eb0"
      },
      "execution_count": null,
      "outputs": [
        {
          "output_type": "stream",
          "name": "stdout",
          "text": [
            "Train sizes to challenge accuracy:\n",
            "[50, 250, 500, 750]\n",
            "\n",
            "Train size: 50\n",
            "\tTrain accuracy: 1.0000\n",
            "\tTest accuracy: 0.8560\n",
            "\tProcess Duration: 0.4264 secs\n",
            "Train size: 250\n",
            "\tTrain accuracy: 1.0000\n",
            "\tTest accuracy: 0.9210\n",
            "\tProcess Duration: 20.0297 secs\n",
            "Train size: 500\n",
            "\tTrain accuracy: 1.0000\n",
            "\tTest accuracy: 0.9550\n",
            "\tProcess Duration: 79.0563 secs\n",
            "Train size: 750\n",
            "\tTrain accuracy: 0.9987\n",
            "\tTest accuracy: 0.9590\n",
            "\tProcess Duration: 146.0881 secs\n"
          ]
        }
      ]
    },
    {
      "cell_type": "code",
      "source": [
        "# perform evaluation of the classifier wrt train size\n",
        "acc_tr, acc_te, tr_sz = EvalClf(X_train, X_test, y_train, y_test, clf.best_params_)"
      ],
      "metadata": {
        "colab": {
          "base_uri": "https://localhost:8080/"
        },
        "id": "jHHYqqRQCcjK",
        "outputId": "2cf910ae-72d0-4b04-a226-0397875c5e71"
      },
      "execution_count": null,
      "outputs": [
        {
          "output_type": "stream",
          "name": "stdout",
          "text": [
            "Train sizes to challenge accuracy:\n",
            "[1000 2000 3000 4000 5000 6000]\n",
            "\n",
            "Train size: 1000\n",
            "\tTrain accuracy: 1.0000\n",
            "\tTest accuracy: 0.9560\n",
            "\tProcess Duration: 373.2597 secs\n",
            "Train size: 2000\n",
            "\tTrain accuracy: 0.9995\n",
            "\tTest accuracy: 0.9670\n",
            "\tProcess Duration: 1060.5894 secs\n",
            "Train size: 3000\n",
            "\tTrain accuracy: 0.9987\n",
            "\tTest accuracy: 0.9650\n",
            "\tProcess Duration: 2005.6638 secs\n",
            "Train size: 4000\n",
            "\tTrain accuracy: 0.9985\n",
            "\tTest accuracy: 0.9680\n",
            "\tProcess Duration: 3073.0500 secs\n",
            "Train size: 5000\n",
            "\tTrain accuracy: 0.9986\n",
            "\tTest accuracy: 0.9730\n",
            "\tProcess Duration: 4394.3416 secs\n",
            "Train size: 6000\n",
            "\tTrain accuracy: 0.9985\n",
            "\tTest accuracy: 0.9730\n",
            "\tProcess Duration: 6454.6857 secs\n"
          ]
        }
      ]
    },
    {
      "cell_type": "code",
      "source": [
        "# merging the results to proceed with ploting the curves\n",
        "acc_tr_x = np.array([*acc_tr0, *acc_tr])\n",
        "acc_te_x = np.array([*acc_te0, *acc_te])\n",
        "tr_sz_x = np.array([*tr_sz0, *tr_sz])\n",
        "tr_sz_x"
      ],
      "metadata": {
        "colab": {
          "base_uri": "https://localhost:8080/"
        },
        "id": "WiwJ7804G5IM",
        "outputId": "41b8f968-6764-49f3-812a-945e3be21477"
      },
      "execution_count": null,
      "outputs": [
        {
          "output_type": "execute_result",
          "data": {
            "text/plain": [
              "array([  50,  250,  500,  750, 1000, 2000, 3000, 4000, 5000, 6000])"
            ]
          },
          "metadata": {},
          "execution_count": 49
        }
      ]
    },
    {
      "cell_type": "code",
      "source": [
        "# plot the learning curves of the train and test sets wrt train sizes\n",
        "PlotCurves(acc_tr_x, acc_te_x, tr_sz_x)"
      ],
      "metadata": {
        "colab": {
          "base_uri": "https://localhost:8080/",
          "height": 473
        },
        "id": "MDkJNY_hy-F3",
        "outputId": "08d39b2b-da86-40f1-80a7-8558d9f0b5ab"
      },
      "execution_count": null,
      "outputs": [
        {
          "output_type": "display_data",
          "data": {
            "text/plain": [
              "<Figure size 1500x400 with 1 Axes>"
            ],
            "image/png": "[encoded data removed]"
          },
          "metadata": {}
        }
      ]
    },
    {
      "cell_type": "markdown",
      "source": [
        "As we can observe our classifier `starts to converge approximately at the train size 4500`. Further more, the hyper-tuning we conducted earlier gave us a slight `better accuracy than the base classifier` we started with."
      ],
      "metadata": {
        "id": "roFBG0S1L6Bg"
      }
    }
  ]
}